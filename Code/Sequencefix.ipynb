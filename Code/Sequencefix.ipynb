{
  "cells": [
    {
      "cell_type": "markdown",
      "source": [
        "## Install, import library, mount google drive"
      ],
      "metadata": {
        "id": "0FLLd3HM8bpX"
      }
    },
    {
      "cell_type": "markdown",
      "source": [
        "Install package dan import library"
      ],
      "metadata": {
        "id": "vjehIb9UZ6tP"
      }
    },
    {
      "cell_type": "code",
      "source": [
        "# 1. Install Biopython\n",
        "!pip install biopython"
      ],
      "metadata": {
        "colab": {
          "base_uri": "https://localhost:8080/"
        },
        "id": "Kq1b8_yWSSFf",
        "outputId": "3bc640eb-e9a0-4e52-8179-3ad7af0e9a27"
      },
      "execution_count": null,
      "outputs": [
        {
          "output_type": "stream",
          "name": "stdout",
          "text": [
            "Collecting biopython\n",
            "  Downloading biopython-1.84-cp310-cp310-manylinux_2_17_x86_64.manylinux2014_x86_64.whl.metadata (12 kB)\n",
            "Requirement already satisfied: numpy in /usr/local/lib/python3.10/dist-packages (from biopython) (1.26.4)\n",
            "Downloading biopython-1.84-cp310-cp310-manylinux_2_17_x86_64.manylinux2014_x86_64.whl (3.2 MB)\n",
            "\u001b[2K   \u001b[90m━━━━━━━━━━━━━━━━━━━━━━━━━━━━━━━━━━━━━━━━\u001b[0m \u001b[32m3.2/3.2 MB\u001b[0m \u001b[31m24.6 MB/s\u001b[0m eta \u001b[36m0:00:00\u001b[0m\n",
            "\u001b[?25hInstalling collected packages: biopython\n",
            "Successfully installed biopython-1.84\n"
          ]
        }
      ]
    },
    {
      "cell_type": "code",
      "source": [
        "# 2. Import necessary packages\n",
        "from Bio import SeqIO\n",
        "from Bio.SeqRecord import SeqRecord\n",
        "from Bio.Seq import Seq"
      ],
      "metadata": {
        "id": "zsjxmI2ChTCe"
      },
      "execution_count": null,
      "outputs": []
    },
    {
      "cell_type": "markdown",
      "source": [
        "Mount ke google drive"
      ],
      "metadata": {
        "id": "9KbNRnL4aDwO"
      }
    },
    {
      "cell_type": "code",
      "source": [
        "# 3. Mount Google Drive\n",
        "from google.colab import drive\n",
        "drive.mount('/content/drive')\n"
      ],
      "metadata": {
        "colab": {
          "base_uri": "https://localhost:8080/"
        },
        "id": "VQNMTdHmZtVe",
        "outputId": "45de5bb6-00bc-4e4c-ca58-8f75e86f2f2e"
      },
      "execution_count": null,
      "outputs": [
        {
          "output_type": "stream",
          "name": "stdout",
          "text": [
            "Mounted at /content/drive\n"
          ]
        }
      ]
    },
    {
      "cell_type": "markdown",
      "source": [
        "Asam amino ke fasta"
      ],
      "metadata": {
        "id": "JfYCgOTbeDJ-"
      }
    },
    {
      "cell_type": "markdown",
      "source": [
        "## simpan sequence ke dalam fasta"
      ],
      "metadata": {
        "id": "tzn6HV0z8UuM"
      }
    },
    {
      "cell_type": "code",
      "source": [
        "outputfasta1 = \"/content/drive/My Drive/Gamanthrax/Seqfix/LFn_linker_PA(tanpa_mutagenesis).fasta\"\n",
        "outputfasta2 = \"/content/drive/My Drive/Gamanthrax/Seqfix/LFn_linker_PA(mutagenesis).fasta\"\n",
        "outputfasta3 = \"/content/drive/My Drive/Gamanthrax/Seqfix/Adjuvant_Linker_PAMHC1_Linker_LFnMHC1_Linker_PAMHC2_Linker_LFnMHC2.fasta\"\n",
        "outputfasta4 = \"/content/drive/My Drive/Gamanthrax/Seqfix/Adjuvant_Linker_PAMHC2_Linker_LFnMHC2_Linker_PAMHC1_Linker_LFnMHC1.fasta\"\n"
      ],
      "metadata": {
        "id": "YLEQ7a_maAN6"
      },
      "execution_count": null,
      "outputs": []
    },
    {
      "cell_type": "code",
      "source": [
        "def save_as_fasta(amino_acid_sequence, file_path, header=\">Generated_Sequence\"):\n",
        "    \"\"\"\n",
        "    Menyimpan sebuah string asam amino ke dalam format FASTA.\n",
        "\n",
        "    Parameters:\n",
        "    - amino_acid_sequence (str): String berisi asam amino.\n",
        "    - file_path (str): Path lengkap tempat penyimpanan file FASTA.\n",
        "    - header (str): Header untuk format FASTA (default: \">Generated_Sequence\").\n",
        "    \"\"\"\n",
        "    # Menambahkan header dan sequence ke dalam format FASTA\n",
        "    fasta_content = f\"{header}\\n\"\n",
        "    # Membatasi tiap baris sequence menjadi 70 karakter (standar FASTA)\n",
        "    fasta_content += \"\\n\".join([amino_acid_sequence[i:i+70] for i in range(0, len(amino_acid_sequence), 70)])\n",
        "\n",
        "    # Menyimpan file dalam format FASTA\n",
        "    with open(file_path, \"w\") as fasta_file:\n",
        "        fasta_file.write(fasta_content)\n",
        "    print(f\"File FASTA berhasil disimpan di: {file_path}\")\n"
      ],
      "metadata": {
        "id": "z0wiUYL5cbh2"
      },
      "execution_count": null,
      "outputs": []
    },
    {
      "cell_type": "code",
      "source": [
        "amino_acid_sequence = \"ERNKTQEEHLKEIMKHIVKIEVKGEEAVKKEAAEKLLEKVPSDVLEMYKAIGGKIYIVDGDITKHISLEALSEDKKKIKDIYGKDALLHEHYVYAKEGYEPVLVIQSSEDYVENTEKALNVYYEIGKILSRDILSKINQPYQKFLDVLNTIKNASDSDGQDLLFTNQLKEHPTDFSVEFLEQNSNEVQEVFAKAFAYYIEPQHRDVLQLYAPEAFNYMDKFNEQEINLSLEELKDQEAAAKEAAAKEAAAKFHYDRNNIAVGADESVVKEAHREVINSSTEGLLLNIDKDIRKILSGYIVEIEDTEGLKEVINDRYDMLNISSLRQDGKTFIDFKKYNDKLPLYISNPNYKVNVYAVTKENTIINPSENGDTSTNGIKKILIFSKKGYEIG\"  # Contoh sequence\n",
        "save_as_fasta(amino_acid_sequence, outputfasta1)"
      ],
      "metadata": {
        "colab": {
          "base_uri": "https://localhost:8080/"
        },
        "id": "GHu2dmxEbGpE",
        "outputId": "46c177ff-d395-46ab-a461-0ec7ca41c4e3"
      },
      "execution_count": null,
      "outputs": [
        {
          "output_type": "stream",
          "name": "stdout",
          "text": [
            "File FASTA berhasil disimpan di: /content/drive/My Drive/Gamanthrax/Seqfix/LFn_linker_PA(tanpa_mutagenesis).fasta\n"
          ]
        }
      ]
    },
    {
      "cell_type": "code",
      "source": [
        "amino_acid_sequence = \"ERNKTQEEHLKEIMKHIVKIEVKGEEAVKKEAAEKLLEKVPSDVLEMYKAIGGKIYIVDGDITKHISLEALSEDKKKIKDIYGKDALLHEHYVYAKEGYEPVLVIQSSEDYVENTEKALNVYYEIGKILSRDILSKINQPYQKFLDVLNTIKNASDSDGQDLLFTNQLKEHPTDFSVEFLEQNSNEVQEVFAKAFAYYIEPQHRDVLQLYAPEAFNYMDKFNEQEINLSLEELKDQEAAAKEAAAKEAAAKFHYDRNNIAVGADESVVKEAHREVINSSTEGLLLNIDKDIRKILSGYIVEIEDTEGLKEVINDRYDMLNISSLRQDGKTFIDFKKYNDKLPLYISNPNYKVNVYAVTKENTIINPSEGGDTSTGGIKKILIFSKKGYEIG\"  # Contoh sequence\n",
        "save_as_fasta(amino_acid_sequence, outputfasta2)"
      ],
      "metadata": {
        "colab": {
          "base_uri": "https://localhost:8080/"
        },
        "id": "vXwmkoS3bIhK",
        "outputId": "a1dcc381-ab85-4675-ae23-a9395897c401"
      },
      "execution_count": null,
      "outputs": [
        {
          "output_type": "stream",
          "name": "stdout",
          "text": [
            "File FASTA berhasil disimpan di: /content/drive/My Drive/Gamanthrax/Seqfix/LFn_linker_PA(mutagenesis).fasta\n"
          ]
        }
      ]
    },
    {
      "cell_type": "code",
      "source": [
        "amino_acid_sequence = \"AKFVAAWTLKAAAEAAAKKYNDKLPLYAAGNPNYKVNVYAAGKTFIDFKKYAAGDMLNISSLRAAGEVFAKAFAYAAGVPSDVLEMYAAGYAPEAFNYMAAGKINQPYQKFEAAAKKVNVYAVTKENTIINGPGPGIDKDIRKILSGYIVEGPGPGDIRKILSGYIVEIEDGPGPGNNIAVGADESVVKEAGPGPGKEIMKHIVKIEVKGEGPGPGMYKAIGGKIYIVDGDGPGPGDGQDLLFTNQLKEHPGPGPGFAKAFAYYIEPQHRD\"  # Contoh sequence\n",
        "save_as_fasta(amino_acid_sequence, outputfasta3)"
      ],
      "metadata": {
        "colab": {
          "base_uri": "https://localhost:8080/"
        },
        "id": "xc5XfUEubHmQ",
        "outputId": "0bce776e-7d86-458b-e803-110deebf01dc"
      },
      "execution_count": null,
      "outputs": [
        {
          "output_type": "stream",
          "name": "stdout",
          "text": [
            "File FASTA berhasil disimpan di: /content/drive/My Drive/Gamanthrax/Seqfix/Adjuvant_Linker_PAMHC1_Linker_LFnMHC1_Linker_PAMHC2_Linker_LFnMHC2.fasta\n"
          ]
        }
      ]
    },
    {
      "cell_type": "code",
      "source": [
        "amino_acid_sequence = \"AKFVAAWTLKAAAEAAAKKVNVYAVTKENTIINGPGPGIDKDIRKILSGYIVEGPGPGDIRKILSGYIVEIEDGPGPGNNIAVGADESVVKEAGPGPGKEIMKHIVKIEVKGEGPGPGMYKAIGGKIYIVDGDGPGPGDGQDLLFTNQLKEHPGPGPGFAKAFAYYIEPQHRDEAAAKKYNDKLPLYAAGNPNYKVNVYAAGKTFIDFKKYAAGDMLNISSLRAAGEVFAKAFAYAAGVPSDVLEMYAAGYAPEAFNYMAAGKINQPYQKF\"  # Contoh sequence\n",
        "save_as_fasta(amino_acid_sequence, outputfasta4)"
      ],
      "metadata": {
        "colab": {
          "base_uri": "https://localhost:8080/"
        },
        "id": "eVQw-O1BbHSj",
        "outputId": "b8ec7364-ecd3-4162-f94a-6dd54d8bae36"
      },
      "execution_count": null,
      "outputs": [
        {
          "output_type": "stream",
          "name": "stdout",
          "text": [
            "File FASTA berhasil disimpan di: /content/drive/My Drive/Gamanthrax/Seqfix/Adjuvant_Linker_PAMHC2_Linker_LFnMHC2_Linker_PAMHC1_Linker_LFnMHC1.fasta\n"
          ]
        }
      ]
    },
    {
      "cell_type": "markdown",
      "source": [
        "Hitung total asam amino untuk konfirmasi"
      ],
      "metadata": {
        "id": "jEOTXLUiqDTn"
      }
    },
    {
      "cell_type": "code",
      "source": [
        "from Bio import SeqIO\n",
        "\n",
        "def count_amino_acids(fasta_file):\n",
        "    total_count = 0\n",
        "    for record in SeqIO.parse(fasta_file, \"fasta\"):\n",
        "        total_count += len(record.seq)\n",
        "\n",
        "    print(f\"Total amino acids in {fasta_file}: {total_count}\")\n"
      ],
      "metadata": {
        "id": "-8e2ozWIp_2L"
      },
      "execution_count": null,
      "outputs": []
    },
    {
      "cell_type": "code",
      "source": [
        "# Contoh penggunaan\n",
        "count_amino_acids(outputfasta1)"
      ],
      "metadata": {
        "colab": {
          "base_uri": "https://localhost:8080/"
        },
        "id": "O_9BtlxuqTQ-",
        "outputId": "dae6ceba-096e-4058-fc26-074076b42563"
      },
      "execution_count": null,
      "outputs": [
        {
          "output_type": "stream",
          "name": "stdout",
          "text": [
            "Total amino acids in /content/drive/My Drive/Gamanthrax/Seqfix/LFn_linker_PA(tanpa_mutagenesis).fasta: 391\n"
          ]
        }
      ]
    },
    {
      "cell_type": "code",
      "source": [
        "# Contoh penggunaan\n",
        "count_amino_acids(outputfasta2)"
      ],
      "metadata": {
        "colab": {
          "base_uri": "https://localhost:8080/"
        },
        "id": "4ITAh7q_qSet",
        "outputId": "53195b36-feb4-45b4-b788-6ec5f5a45b16"
      },
      "execution_count": null,
      "outputs": [
        {
          "output_type": "stream",
          "name": "stdout",
          "text": [
            "Total amino acids in /content/drive/My Drive/Gamanthrax/Seqfix/LFn_linker_PA(mutagenesis).fasta: 391\n"
          ]
        }
      ]
    },
    {
      "cell_type": "code",
      "source": [
        "# Contoh penggunaan\n",
        "count_amino_acids(outputfasta3)"
      ],
      "metadata": {
        "colab": {
          "base_uri": "https://localhost:8080/"
        },
        "id": "UBHZs0QTqSX0",
        "outputId": "f0bc9656-e783-4bb0-ad9d-7cdef20112cd"
      },
      "execution_count": null,
      "outputs": [
        {
          "output_type": "stream",
          "name": "stdout",
          "text": [
            "Total amino acids in /content/drive/My Drive/Gamanthrax/Seqfix/Adjuvant_Linker_PAMHC1_Linker_LFnMHC1_Linker_PAMHC2_Linker_LFnMHC2.fasta: 271\n"
          ]
        }
      ]
    },
    {
      "cell_type": "code",
      "source": [
        "# Contoh penggunaan\n",
        "count_amino_acids(outputfasta4)"
      ],
      "metadata": {
        "colab": {
          "base_uri": "https://localhost:8080/"
        },
        "id": "bjbzwCyxqSNr",
        "outputId": "02974b6c-81a9-4e2c-9705-ed5bc9a09c91"
      },
      "execution_count": null,
      "outputs": [
        {
          "output_type": "stream",
          "name": "stdout",
          "text": [
            "Total amino acids in /content/drive/My Drive/Gamanthrax/Seqfix/Adjuvant_Linker_PAMHC2_Linker_LFnMHC2_Linker_PAMHC1_Linker_LFnMHC1.fasta: 271\n"
          ]
        }
      ]
    },
    {
      "cell_type": "markdown",
      "source": [
        "## Rename fasta dan hitung basepair(bp)"
      ],
      "metadata": {
        "id": "VzuuPcXI8Mht"
      }
    },
    {
      "cell_type": "code",
      "source": [
        "from Bio import SeqIO\n",
        "import os\n",
        "\n",
        "# Nama header untuk setiap sequence\n",
        "headers = [\n",
        "    \"LFn_linker_PA(tanpa_mutagenesis)\",\n",
        "    \"LFn_linker_PA(mutagenesis)\",\n",
        "    \"Adjuvant_Linker_PAMHC1_Linker_LFnMHC1_Linker_PAMHC2_Linker_LFnMHC2\",\n",
        "    \"Adjuvant_Linker_PAMHC2_Linker_LFnMHC2_Linker_PAMHC1_Linker_LFnMHC1\"\n",
        "]\n",
        "\n",
        "# Fungsi untuk memperbarui header pada list of SeqRecord\n",
        "def update_fasta_records(records, new_header):\n",
        "    updated_records = []\n",
        "    for record in records:\n",
        "        total_bp = len(record.seq)  # Menghitung panjang sequence (basepair)\n",
        "        # Memperbarui header dengan menambahkan informasi Total bp\n",
        "        record.id = f\"{new_header} | Total bp: {total_bp}\"\n",
        "        record.description = \"\"  # Mengosongkan deskripsi agar hanya header yang terupdate\n",
        "        updated_records.append(record)\n",
        "    return updated_records\n",
        "\n",
        "# Membaca file fasta dan mengupdate header\n",
        "def process_fasta_file(file_path, header):\n",
        "    with open(file_path, \"r\") as file:\n",
        "        records = list(SeqIO.parse(file, \"fasta\"))  # Membaca file sebagai list of SeqRecord\n",
        "    updated_records = update_fasta_records(records, header)  # Memperbarui header\n",
        "    return updated_records\n",
        "\n",
        "# Path ke file fasta\n",
        "Optimizefix1 = \"/content/drive/My Drive/Gamanthrax/Seqfix/Optimizedseq/Fix/LFn_linker_PA(tanpa_mutagenesis)fix.fasta\"\n",
        "Optimizefix2 = \"/content/drive/My Drive/Gamanthrax/Seqfix/Optimizedseq/Fix/LFn_linker_PA(mutagenesis)fix.fasta\"\n",
        "Optimizefix3 = \"/content/drive/My Drive/Gamanthrax/Seqfix/Optimizedseq/Fix/Adjuvant_Linker_PAMHC1_Linker_LFnMHC1_Linker_PAMHC2_Linker_LFnMHC2fix.fasta\"\n",
        "Optimizefix4 = \"/content/drive/My Drive/Gamanthrax/Seqfix/Optimizedseq/Fix/Adjuvant_Linker_PAMHC2_Linker_LFnMHC2_Linker_PAMHC1_Linker_LFnMHC1fix.fasta\"\n",
        "\n",
        "# Folder tempat menyimpan file hasil\n",
        "output_folder = \"/content/drive/My Drive/Gamanthrax/Seqfix/Optimizedseq/Fix/Rename\"\n",
        "\n",
        "# Membuat folder jika belum ada\n",
        "os.makedirs(output_folder, exist_ok=True)\n",
        "\n",
        "# Membaca dan mengupdate header pada file fasta\n",
        "Optimizefix1_records = process_fasta_file(Optimizefix1, headers[0])\n",
        "Optimizefix2_records = process_fasta_file(Optimizefix2, headers[1])\n",
        "Optimizefix3_records = process_fasta_file(Optimizefix3, headers[2])\n",
        "Optimizefix4_records = process_fasta_file(Optimizefix4, headers[3])\n",
        "\n",
        "# Menyimpan hasil ke file baru di folder yang sama\n",
        "output_file1 = os.path.join(output_folder, \"LFn_linker_PA(tanpa_mutagenesis).fasta\")\n",
        "output_file2 = os.path.join(output_folder, \"LFn_linker_PA(mutagenesis).fasta\")\n",
        "output_file3 = os.path.join(output_folder, \"Adjuvant_Linker_PAMHC1_Linker_LFnMHC1_Linker_PAMHC2_Linker_LFnMHC2.fasta\")\n",
        "output_file4 = os.path.join(output_folder, \"Adjuvant_Linker_PAMHC2_Linker_LFnMHC2_Linker_PAMHC1_Linker_LFnMHC1fix.fasta\")\n",
        "\n",
        "# Menulis file FASTA yang sudah diperbarui\n",
        "SeqIO.write(Optimizefix1_records, output_file1, \"fasta\")\n",
        "SeqIO.write(Optimizefix2_records, output_file2, \"fasta\")\n",
        "SeqIO.write(Optimizefix3_records, output_file3, \"fasta\")\n",
        "SeqIO.write(Optimizefix4_records, output_file4, \"fasta\")\n",
        "\n",
        "print(\"File telah disimpan di folder:\", output_folder)\n"
      ],
      "metadata": {
        "colab": {
          "base_uri": "https://localhost:8080/"
        },
        "id": "l-3W_cYs8LJ8",
        "outputId": "52890e7f-7d25-477a-f8f6-919fda4ce9c4"
      },
      "execution_count": null,
      "outputs": [
        {
          "output_type": "stream",
          "name": "stdout",
          "text": [
            "File telah disimpan di folder: /content/drive/My Drive/Gamanthrax/Seqfix/Optimizedseq/Fix/Rename\n"
          ]
        }
      ]
    },
    {
      "cell_type": "code",
      "source": [
        "from Bio import SeqIO\n",
        "\n",
        "# Path ke file fasta yang sudah diupdate\n",
        "file_path = \"/content/drive/My Drive/Gamanthrax/Seqfix/Optimizedseq/Fix/Rename/file1_updated.fasta\"  # Gantilah dengan path yang sesuai\n",
        "\n",
        "# Membaca file fasta yang sudah diupdate\n",
        "with open(file_path, \"r\") as file:\n",
        "    records = list(SeqIO.parse(file, \"fasta\"))\n",
        "\n",
        "# Menampilkan ID dan sequence dari file FASTA yang sudah diupdate\n",
        "for record in records:\n",
        "    print(f\"ID: {record.id}\")\n",
        "    print(f\"Sequence: {record.seq}\")\n",
        "    print()\n"
      ],
      "metadata": {
        "colab": {
          "base_uri": "https://localhost:8080/"
        },
        "id": "dldVc766oK1N",
        "outputId": "a8c82595-4ca9-4404-a172-ff5f95b86c74"
      },
      "execution_count": null,
      "outputs": [
        {
          "output_type": "stream",
          "name": "stdout",
          "text": [
            "ID: LFn_linker_PA(tanpa_mutagenesis)\n",
            "Sequence: GAGAGAAACAAGACTCAGGAGGAGCACCTCAAGGAGATCATGAAGCACATCGTTAAGATCGAGGTTAAGGGAGAGGAGGCTGTTAAGAAGGAGGCTGCTGAGAAGCTCCTCGAGAAGGTTCCTTCTGATGTTCTCGAGATGTACAAGGCTATCGGAGGAAAGATCTACATCGTTGATGGAGATATCACTAAGCACATCTCTCTCGAGGCTCTCTCTGAGGATAAGAAGAAGATCAAGGATATCTACGGAAAGGATGCTCTCCTCCACGAGCACTACGTTTACGCTAAGGAGGGATACGAGCCTGTTCTCGTTATCCAGTCTTCTGAGGATTACGTTGAGAACACTGAGAAGGCTCTCAACGTTTACTACGAGATCGGAAAGATCCTCTCTAGAGATATCCTCTCTAAGATCAACCAGCCTTACCAGAAGTTCCTCGATGTTCTCAACACTATCAAGAACGCTTCTGATTCTGATGGACAGGATCTCCTCTTCACTAACCAGCTCAAGGAGCACCCTACTGATTTCTCTGTTGAGTTCCTCGAGCAGAACTCTAACGAGGTTCAGGAGGTTTTCGCTAAGGCTTTCGCTTACTACATCGAGCCTCAGCACAGAGATGTTCTCCAGCTCTACGCTCCTGAGGCTTTCAACTACATGGATAAGTTCAACGAGCAGGAGATCAACCTCTCTCTCGAGGAGCTCAAGGATCAGGAGGCTGCTGCTAAGGAGGCTGCTGCTAAGGAGGCTGCTGCTAAGTTCCACTACGATAGAAACAACATCGCTGTTGGAGCTGATGAGTCTGTTGTTAAGGAGGCTCACAGAGAGGTTATCAACTCTTCTACTGAGGGACTCCTCCTCAACATCGATAAGGATATCAGAAAGATCCTCTCTGGATACATCGTTGAGATCGAGGATACTGAGGGACTCAAGGAGGTTATCAACGATAGATACGATATGCTCAACATCTCTTCTCTCAGACAGGATGGAAAGACTTTCATCGATTTCAAGAAGTACAACGATAAGCTCCCTCTCTACATCTCTAACCCTAACTACAAGGTTAACGTTTACGCTGTTACTAAGGAGAACACTATCATCAACCCTTCTGAGAACGGAGATACTTCTACTAACGGAATCAAGAAGATCCTCATCTTCTCTAAGAAGGGATACGAGATCGGA\n",
            "\n"
          ]
        }
      ]
    }
  ],
  "metadata": {
    "kernelspec": {
      "display_name": "myenv",
      "language": "python",
      "name": "python3"
    },
    "language_info": {
      "name": "python",
      "version": "3.11.4"
    },
    "colab": {
      "provenance": []
    }
  },
  "nbformat": 4,
  "nbformat_minor": 0
}